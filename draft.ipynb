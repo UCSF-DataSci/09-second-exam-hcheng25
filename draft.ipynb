{
 "cells": [
  {
   "cell_type": "markdown",
   "metadata": {},
   "source": [
    "# Question 2\n",
    "## analyze_visits.py"
   ]
  },
  {
   "cell_type": "code",
   "execution_count": null,
   "metadata": {},
   "outputs": [
    {
     "name": "stdout",
     "output_type": "stream",
     "text": [
      "      patient_id visit_date    age education_level  walking_speed\n",
      "0          P0001 2020-01-07  53.07        Graduate           4.03\n",
      "1          P0001 2020-04-19  53.36        Graduate           4.97\n",
      "2          P0001 2020-07-09  53.58        Graduate           4.15\n",
      "3          P0001 2020-09-26  53.79        Graduate           4.34\n",
      "4          P0001 2020-12-22  54.03        Graduate           4.47\n",
      "...          ...        ...    ...             ...            ...\n",
      "15382      P1000 2022-05-23  75.30    Some College           2.53\n",
      "15383      P1000 2022-08-29  75.57    Some College           3.60\n",
      "15384      P1000 2023-03-02  76.08    Some College           3.03\n",
      "15385      P1000 2023-06-12  76.36    Some College           2.66\n",
      "15386      P1000 2023-09-23  76.64    Some College           2.92\n",
      "\n",
      "[15387 rows x 5 columns]\n"
     ]
    }
   ],
   "source": [
    "# step 1\n",
    "import pandas as pd\n",
    "import numpy as np\n",
    "\n",
    "df = pd.read_csv('ms_data.csv')\n",
    "df['visit_date'] = pd.to_datetime(df['visit_date'])\n",
    "df.sort_values(by=['patient_id','visit_date'])\n",
    "print(df)"
   ]
  },
  {
   "cell_type": "code",
   "execution_count": null,
   "metadata": {},
   "outputs": [
    {
     "name": "stdout",
     "output_type": "stream",
     "text": [
      "      patient_id visit_date    age education_level  walking_speed insurance  \\\n",
      "0          P0001 2020-01-07  53.07        Graduate           4.03   Premium   \n",
      "1          P0001 2020-04-19  53.36        Graduate           4.97   Premium   \n",
      "2          P0001 2020-07-09  53.58        Graduate           4.15   Premium   \n",
      "3          P0001 2020-09-26  53.79        Graduate           4.34   Premium   \n",
      "4          P0001 2020-12-22  54.03        Graduate           4.47   Premium   \n",
      "...          ...        ...    ...             ...            ...       ...   \n",
      "15382      P1000 2022-05-23  75.30    Some College           2.53   Premium   \n",
      "15383      P1000 2022-08-29  75.57    Some College           3.60   Premium   \n",
      "15384      P1000 2023-03-02  76.08    Some College           3.03   Premium   \n",
      "15385      P1000 2023-06-12  76.36    Some College           2.66   Premium   \n",
      "15386      P1000 2023-09-23  76.64    Some College           2.92   Premium   \n",
      "\n",
      "       visit_cost  \n",
      "0          653.23  \n",
      "1          674.40  \n",
      "2          840.67  \n",
      "3          799.31  \n",
      "4          718.91  \n",
      "...           ...  \n",
      "15382      732.37  \n",
      "15383      810.27  \n",
      "15384      753.91  \n",
      "15385      713.57  \n",
      "15386      665.24  \n",
      "\n",
      "[15387 rows x 7 columns]\n"
     ]
    }
   ],
   "source": [
    "# step 2\n",
    "# dictionary for each patient_id value to get a random insurance type\n",
    "insurance = pd.read_table('insurance.lst')\n",
    "insurance = pd.Series(insurance['insurance_type'])\n",
    "id_list = np.unique(df['patient_id'])\n",
    "insurance_type = {}\n",
    "for i in range(len(id_list)):\n",
    "    insurance_type[id_list[i]] = insurance[np.random.randint(3)]\n",
    "\n",
    "# insert values into insurance column based on dictionary\n",
    "for i in range(len(df)):\n",
    "    df.loc[i, 'insurance'] = insurance_type[df.loc[i, 'patient_id']]\n",
    "    # generate a random cost for each visit based on insurance type\n",
    "    # average of basic coverage is 1000, premium is 750, platinum is 500\n",
    "    # actual cost can range from 80-120% of average, and each visit is generated independently\n",
    "    if df.loc[i, 'insurance']=='Basic': df.loc[i, 'visit_cost'] = round(1000*np.random.uniform(low=0.8, high=1.2), 2)\n",
    "    if df.loc[i, 'insurance']=='Premium': df.loc[i, 'visit_cost'] = round(750*np.random.uniform(low=0.8, high=1.2), 2)\n",
    "    if df.loc[i, 'insurance']=='Platinum': df.loc[i, 'visit_cost'] = round(500*np.random.uniform(low=0.8, high=1.2), 2)\n",
    "print(df)"
   ]
  },
  {
   "cell_type": "code",
   "execution_count": 10,
   "metadata": {},
   "outputs": [
    {
     "name": "stdout",
     "output_type": "stream",
     "text": [
      "Mean Walking Speed by Education Level\n",
      " education_level\n",
      "Bachelors       4.018453\n",
      "Graduate        4.476606\n",
      "High School     3.236911\n",
      "Some College    3.606970\n",
      "Name: walking_speed, dtype: float64 \n",
      "\n",
      "Mean Visit Cost by Insurance Type\n",
      " insurance\n",
      "Basic       997.548867\n",
      "Platinum    499.695909\n",
      "Premium     750.154418\n",
      "Name: visit_cost, dtype: float64 \n",
      "\n",
      "=== Linear Regression for Walking Speed by Age ===\n",
      "==============================================================================\n",
      "                 coef    std err          t      P>|t|      [0.025      0.975]\n",
      "------------------------------------------------------------------------------\n",
      "const          5.4525      0.014    381.430      0.000       5.424       5.480\n",
      "age           -0.0309      0.000   -118.965      0.000      -0.031      -0.030\n",
      "==============================================================================\n"
     ]
    }
   ],
   "source": [
    "# step 3\n",
    "from statsmodels.regression.linear_model import OLS\n",
    "import statsmodels.api as sm\n",
    "\n",
    "print('Mean Walking Speed by Education Level\\n', df.groupby('education_level')['walking_speed'].mean(), '\\n')\n",
    "print('Mean Visit Cost by Insurance Type\\n', df.groupby('insurance')['visit_cost'].mean(), '\\n')\n",
    "\n",
    "print(\"=== Linear Regression for Walking Speed by Age ===\")\n",
    "X_with_const = sm.add_constant(df['age'])\n",
    "y = df['walking_speed']\n",
    "model = OLS(y, X_with_const)\n",
    "results = model.fit()\n",
    "print(results.summary().tables[1])"
   ]
  }
 ],
 "metadata": {
  "kernelspec": {
   "display_name": ".venv",
   "language": "python",
   "name": "python3"
  },
  "language_info": {
   "codemirror_mode": {
    "name": "ipython",
    "version": 3
   },
   "file_extension": ".py",
   "mimetype": "text/x-python",
   "name": "python",
   "nbconvert_exporter": "python",
   "pygments_lexer": "ipython3",
   "version": "3.10.12"
  }
 },
 "nbformat": 4,
 "nbformat_minor": 2
}

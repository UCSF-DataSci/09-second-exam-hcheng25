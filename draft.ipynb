{
 "cells": [
  {
   "cell_type": "code",
   "execution_count": 9,
   "metadata": {},
   "outputs": [
    {
     "name": "stdout",
     "output_type": "stream",
     "text": [
      "      patient_id visit_date    age education_level  walking_speed\n",
      "0          P0001 2020-01-07  53.07        Graduate           4.03\n",
      "1          P0001 2020-04-19  53.36        Graduate           4.97\n",
      "2          P0001 2020-07-09  53.58        Graduate           4.15\n",
      "3          P0001 2020-09-26  53.79        Graduate           4.34\n",
      "4          P0001 2020-12-22  54.03        Graduate           4.47\n",
      "...          ...        ...    ...             ...            ...\n",
      "15382      P1000 2022-05-23  75.30    Some College           2.53\n",
      "15383      P1000 2022-08-29  75.57    Some College           3.60\n",
      "15384      P1000 2023-03-02  76.08    Some College           3.03\n",
      "15385      P1000 2023-06-12  76.36    Some College           2.66\n",
      "15386      P1000 2023-09-23  76.64    Some College           2.92\n",
      "\n",
      "[15387 rows x 5 columns]\n"
     ]
    }
   ],
   "source": [
    "# step 1\n",
    "import pandas as pd\n",
    "import numpy as np\n",
    "\n",
    "df = pd.read_csv('ms_data.csv')\n",
    "df['visit_date'] = pd.to_datetime(df['visit_date'])\n",
    "df.sort_values(by=['patient_id','visit_date'])\n",
    "print(df)"
   ]
  },
  {
   "cell_type": "code",
   "execution_count": 19,
   "metadata": {},
   "outputs": [
    {
     "ename": "SyntaxError",
     "evalue": "positional argument follows keyword argument (574968072.py, line 9)",
     "output_type": "error",
     "traceback": [
      "\u001b[0;36m  Cell \u001b[0;32mIn[19], line 9\u001b[0;36m\u001b[0m\n\u001b[0;31m    df['insurance_type'].replace(to_replace=id_list[i], insurance[number])\u001b[0m\n\u001b[0m                                                                         ^\u001b[0m\n\u001b[0;31mSyntaxError\u001b[0m\u001b[0;31m:\u001b[0m positional argument follows keyword argument\n"
     ]
    }
   ],
   "source": [
    "# step 2\n",
    "insurance = pd.read_table('insurance.lst')\n",
    "\n",
    "id_list = np.unique(df['patient_id'])\n",
    "insurance_assignment = np.random.randint(3, size=len(id_list))\n",
    "df['insurance_type'] = df['patient_id']\n",
    "for i in range(len(id_list)):\n",
    "    number = insurance_assignment[i]\n",
    "    df['insurance_type'].replace(to_replace=id_list[i], insurance[number])\n",
    "print(df)"
   ]
  }
 ],
 "metadata": {
  "kernelspec": {
   "display_name": ".venv",
   "language": "python",
   "name": "python3"
  },
  "language_info": {
   "codemirror_mode": {
    "name": "ipython",
    "version": 3
   },
   "file_extension": ".py",
   "mimetype": "text/x-python",
   "name": "python",
   "nbconvert_exporter": "python",
   "pygments_lexer": "ipython3",
   "version": "3.10.12"
  }
 },
 "nbformat": 4,
 "nbformat_minor": 2
}

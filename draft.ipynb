{
 "cells": [
  {
   "cell_type": "markdown",
   "metadata": {},
   "source": [
    "# Question 2\n",
    "## analyze_visits.py"
   ]
  },
  {
   "cell_type": "code",
   "execution_count": 19,
   "metadata": {},
   "outputs": [
    {
     "name": "stdout",
     "output_type": "stream",
     "text": [
      "      patient_id visit_date    age education_level  walking_speed\n",
      "0          P0001 2020-01-07  53.07        Graduate           4.03\n",
      "1          P0001 2020-04-19  53.36        Graduate           4.97\n",
      "2          P0001 2020-07-09  53.58        Graduate           4.15\n",
      "3          P0001 2020-09-26  53.79        Graduate           4.34\n",
      "4          P0001 2020-12-22  54.03        Graduate           4.47\n",
      "...          ...        ...    ...             ...            ...\n",
      "15382      P1000 2022-05-23  75.30    Some College           2.53\n",
      "15383      P1000 2022-08-29  75.57    Some College           3.60\n",
      "15384      P1000 2023-03-02  76.08    Some College           3.03\n",
      "15385      P1000 2023-06-12  76.36    Some College           2.66\n",
      "15386      P1000 2023-09-23  76.64    Some College           2.92\n",
      "\n",
      "[15387 rows x 5 columns]\n"
     ]
    }
   ],
   "source": [
    "# step 1\n",
    "import pandas as pd\n",
    "import numpy as np\n",
    "\n",
    "df = pd.read_csv('ms_data.csv')\n",
    "df['visit_date'] = pd.to_datetime(df['visit_date'])\n",
    "df.sort_values(by=['patient_id','visit_date'])\n",
    "print(df)"
   ]
  },
  {
   "cell_type": "code",
   "execution_count": 50,
   "metadata": {},
   "outputs": [
    {
     "name": "stdout",
     "output_type": "stream",
     "text": [
      "      patient_id visit_date    age education_level  walking_speed insurance  \\\n",
      "0          P0001 2020-01-07  53.07        Graduate           4.03   Premium   \n",
      "1          P0001 2020-04-19  53.36        Graduate           4.97   Premium   \n",
      "2          P0001 2020-07-09  53.58        Graduate           4.15   Premium   \n",
      "3          P0001 2020-09-26  53.79        Graduate           4.34   Premium   \n",
      "4          P0001 2020-12-22  54.03        Graduate           4.47   Premium   \n",
      "...          ...        ...    ...             ...            ...       ...   \n",
      "15382      P1000 2022-05-23  75.30    Some College           2.53     Basic   \n",
      "15383      P1000 2022-08-29  75.57    Some College           3.60     Basic   \n",
      "15384      P1000 2023-03-02  76.08    Some College           3.03     Basic   \n",
      "15385      P1000 2023-06-12  76.36    Some College           2.66     Basic   \n",
      "15386      P1000 2023-09-23  76.64    Some College           2.92     Basic   \n",
      "\n",
      "        visit_cost  \n",
      "0        795.12699  \n",
      "1        809.26945  \n",
      "2       808.248936  \n",
      "3       881.962353  \n",
      "4       645.293641  \n",
      "...            ...  \n",
      "15382  1175.129863  \n",
      "15383  1145.172105  \n",
      "15384   1104.34309  \n",
      "15385  1087.776652  \n",
      "15386   800.526166  \n",
      "\n",
      "[15387 rows x 7 columns]\n"
     ]
    }
   ],
   "source": [
    "# step 2\n",
    "# dictionary for each patient_id value to get a random insurance type\n",
    "insurance = pd.read_table('insurance.lst')\n",
    "insurance = pd.Series(insurance['insurance_type'])\n",
    "id_list = np.unique(df['patient_id'])\n",
    "insurance_type = {}\n",
    "for i in range(len(id_list)):\n",
    "    insurance_type[id_list[i]] = insurance[np.random.randint(3)]\n",
    "\n",
    "# insert values into insurance column based on dictionary\n",
    "for i in range(len(df)):\n",
    "    df.loc[i, 'insurance'] = insurance_type[df.loc[i, 'patient_id']]\n",
    "    # generate a random cost for each visit based on insurance type\n",
    "    # average of basic coverage is 1000, premium is 750, platinum is 500\n",
    "    # actual cost can range from 80-120% of average, and each visit for one patient is generated independently\n",
    "    if df.loc[i, 'insurance']=='Basic': df.loc[i, 'visit_cost'] = 1000*np.random.uniform(low=0.8, high=1.2)\n",
    "    if df.loc[i, 'insurance']=='Premium': df.loc[i, 'visit_cost'] = 750*np.random.uniform(low=0.8, high=1.2)\n",
    "    if df.loc[i, 'insurance']=='Platinum': df.loc[i, 'visit_cost'] = 500*np.random.uniform(low=0.8, high=1.2)\n",
    "\n",
    "print(df)"
   ]
  },
  {
   "cell_type": "code",
   "execution_count": 51,
   "metadata": {},
   "outputs": [
    {
     "name": "stdout",
     "output_type": "stream",
     "text": [
      "Mean Walking Speed by Education Level\n",
      " education_level\n",
      "Bachelors       4.018453\n",
      "Graduate        4.476606\n",
      "High School     3.236911\n",
      "Some College    3.606970\n",
      "Name: walking_speed, dtype: float64 \n",
      "\n",
      "Mean Visit Cost by Insurance Type\n",
      " insurance\n",
      "Basic         998.6295\n",
      "Platinum    500.484651\n",
      "Premium     748.604778\n",
      "Name: visit_cost, dtype: object \n",
      "\n"
     ]
    }
   ],
   "source": [
    "# step 3\n",
    "\n",
    "print('Mean Walking Speed by Education Level\\n', df.groupby('education_level')['walking_speed'].mean(), '\\n')\n",
    "print('Mean Visit Cost by Insurance Type\\n', df.groupby('insurance')['visit_cost'].mean(), '\\n')"
   ]
  }
 ],
 "metadata": {
  "kernelspec": {
   "display_name": ".venv",
   "language": "python",
   "name": "python3"
  },
  "language_info": {
   "codemirror_mode": {
    "name": "ipython",
    "version": 3
   },
   "file_extension": ".py",
   "mimetype": "text/x-python",
   "name": "python",
   "nbconvert_exporter": "python",
   "pygments_lexer": "ipython3",
   "version": "3.10.12"
  }
 },
 "nbformat": 4,
 "nbformat_minor": 2
}

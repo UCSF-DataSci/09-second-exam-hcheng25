{
 "cells": [
  {
   "cell_type": "markdown",
   "metadata": {},
   "source": [
    "# Question 2\n",
    "## analyze_visits.py"
   ]
  },
  {
   "cell_type": "code",
   "execution_count": 1,
   "metadata": {},
   "outputs": [
    {
     "name": "stdout",
     "output_type": "stream",
     "text": [
      "      patient_id visit_date    age education_level  walking_speed\n",
      "0          P0001 2020-01-07  53.07        Graduate           4.03\n",
      "1          P0001 2020-04-19  53.36        Graduate           4.97\n",
      "2          P0001 2020-07-09  53.58        Graduate           4.15\n",
      "3          P0001 2020-09-26  53.79        Graduate           4.34\n",
      "4          P0001 2020-12-22  54.03        Graduate           4.47\n",
      "...          ...        ...    ...             ...            ...\n",
      "15382      P1000 2022-05-23  75.30    Some College           2.53\n",
      "15383      P1000 2022-08-29  75.57    Some College           3.60\n",
      "15384      P1000 2023-03-02  76.08    Some College           3.03\n",
      "15385      P1000 2023-06-12  76.36    Some College           2.66\n",
      "15386      P1000 2023-09-23  76.64    Some College           2.92\n",
      "\n",
      "[15387 rows x 5 columns]\n"
     ]
    }
   ],
   "source": [
    "# step 1\n",
    "import pandas as pd\n",
    "import numpy as np\n",
    "\n",
    "df = pd.read_csv('ms_data.csv')\n",
    "df['visit_date'] = pd.to_datetime(df['visit_date'])\n",
    "df.sort_values(by=['patient_id','visit_date'])\n",
    "print(df)"
   ]
  },
  {
   "cell_type": "code",
   "execution_count": 2,
   "metadata": {},
   "outputs": [
    {
     "name": "stdout",
     "output_type": "stream",
     "text": [
      "      patient_id visit_date    age education_level  walking_speed insurance  \\\n",
      "0          P0001 2020-01-07  53.07        Graduate           4.03   Premium   \n",
      "1          P0001 2020-04-19  53.36        Graduate           4.97   Premium   \n",
      "2          P0001 2020-07-09  53.58        Graduate           4.15   Premium   \n",
      "3          P0001 2020-09-26  53.79        Graduate           4.34   Premium   \n",
      "4          P0001 2020-12-22  54.03        Graduate           4.47   Premium   \n",
      "...          ...        ...    ...             ...            ...       ...   \n",
      "15382      P1000 2022-05-23  75.30    Some College           2.53  Platinum   \n",
      "15383      P1000 2022-08-29  75.57    Some College           3.60  Platinum   \n",
      "15384      P1000 2023-03-02  76.08    Some College           3.03  Platinum   \n",
      "15385      P1000 2023-06-12  76.36    Some College           2.66  Platinum   \n",
      "15386      P1000 2023-09-23  76.64    Some College           2.92  Platinum   \n",
      "\n",
      "       visit_cost  \n",
      "0          830.63  \n",
      "1          755.73  \n",
      "2          725.81  \n",
      "3          773.03  \n",
      "4          845.35  \n",
      "...           ...  \n",
      "15382      475.59  \n",
      "15383      555.42  \n",
      "15384      445.00  \n",
      "15385      423.21  \n",
      "15386      549.41  \n",
      "\n",
      "[15387 rows x 7 columns]\n"
     ]
    }
   ],
   "source": [
    "# step 2\n",
    "# dictionary for each patient_id value to get a random insurance type\n",
    "insurance = pd.read_table('insurance.lst')\n",
    "insurance = pd.Series(insurance['insurance_type'])\n",
    "id_list = np.unique(df['patient_id'])\n",
    "insurance_type = {}\n",
    "for i in range(len(id_list)):\n",
    "    insurance_type[id_list[i]] = insurance[np.random.randint(3)]\n",
    "\n",
    "# insert values into insurance column based on dictionary\n",
    "for i in range(len(df)):\n",
    "    df.loc[i, 'insurance'] = insurance_type[df.loc[i, 'patient_id']]\n",
    "    # generate a random cost for each visit based on insurance type\n",
    "    # average of basic coverage is 1000, premium is 750, platinum is 500\n",
    "    # actual cost can range from 80-120% of average, and each visit is generated independently\n",
    "    if df.loc[i, 'insurance']=='Basic': df.loc[i, 'visit_cost'] = round(1000*np.random.uniform(low=0.8, high=1.2), 2)\n",
    "    if df.loc[i, 'insurance']=='Premium': df.loc[i, 'visit_cost'] = round(750*np.random.uniform(low=0.8, high=1.2), 2)\n",
    "    if df.loc[i, 'insurance']=='Platinum': df.loc[i, 'visit_cost'] = round(500*np.random.uniform(low=0.8, high=1.2), 2)\n",
    "print(df)"
   ]
  },
  {
   "cell_type": "code",
   "execution_count": 3,
   "metadata": {},
   "outputs": [
    {
     "name": "stdout",
     "output_type": "stream",
     "text": [
      "Mean Walking Speed by Education Level\n",
      " education_level\n",
      "Bachelors       4.018453\n",
      "Graduate        4.476606\n",
      "High School     3.236911\n",
      "Some College    3.606970\n",
      "Name: walking_speed, dtype: float64 \n",
      "\n",
      "Mean Visit Cost by Insurance Type\n",
      " insurance\n",
      "Basic       1001.371174\n",
      "Platinum     500.027385\n",
      "Premium      749.417626\n",
      "Name: visit_cost, dtype: float64 \n",
      "\n",
      "=== Linear Regression for Walking Speed by Age ===\n",
      "==============================================================================\n",
      "                 coef    std err          t      P>|t|      [0.025      0.975]\n",
      "------------------------------------------------------------------------------\n",
      "const          5.4525      0.014    381.430      0.000       5.424       5.480\n",
      "age           -0.0309      0.000   -118.965      0.000      -0.031      -0.030\n",
      "==============================================================================\n"
     ]
    }
   ],
   "source": [
    "# step 3\n",
    "from statsmodels.regression.linear_model import OLS\n",
    "import statsmodels.api as sm\n",
    "\n",
    "print('Mean Walking Speed by Education Level\\n', df.groupby('education_level')['walking_speed'].mean(), '\\n')\n",
    "print('Mean Visit Cost by Insurance Type\\n', df.groupby('insurance')['visit_cost'].mean(), '\\n')\n",
    "\n",
    "print(\"=== Linear Regression for Walking Speed by Age ===\")\n",
    "X_with_const = sm.add_constant(df['age'])\n",
    "y = df['walking_speed']\n",
    "model = OLS(y, X_with_const)\n",
    "results = model.fit()\n",
    "print(results.summary().tables[1])"
   ]
  },
  {
   "cell_type": "markdown",
   "metadata": {},
   "source": [
    "# Question 3\n",
    "## stats_analysis.py"
   ]
  },
  {
   "cell_type": "code",
   "execution_count": 4,
   "metadata": {},
   "outputs": [
    {
     "name": "stdout",
     "output_type": "stream",
     "text": [
      "=== Linear Regression for Walking Speed by Age and Education ===\n",
      "=================================================================================\n",
      "                    coef    std err          t      P>|t|      [0.025      0.975]\n",
      "---------------------------------------------------------------------------------\n",
      "const             4.8110      0.010    504.791      0.000       4.792       4.830\n",
      "age              -0.0303      0.000   -192.062      0.000      -0.031      -0.030\n",
      "education_num     0.4024      0.002    162.470      0.000       0.398       0.407\n",
      "=================================================================================\n"
     ]
    }
   ],
   "source": [
    "# part 1 - analyze walking speed\n",
    "df.loc[df['education_level']=='High School', 'education_num'] = 0\n",
    "df.loc[df['education_level']=='Some College', 'education_num'] = 1\n",
    "df.loc[df['education_level']=='Bachelors', 'education_num'] = 2\n",
    "df.loc[df['education_level']=='Graduate', 'education_num'] = 3\n",
    "print(\"=== Linear Regression for Walking Speed by Age and Education ===\")\n",
    "X_with_const = sm.add_constant(df[['age', 'education_num']])\n",
    "y = df['walking_speed']\n",
    "model = OLS(y, X_with_const)\n",
    "results = model.fit()\n",
    "print(results.summary().tables[1])"
   ]
  },
  {
   "cell_type": "code",
   "execution_count": null,
   "metadata": {},
   "outputs": [
    {
     "name": "stdout",
     "output_type": "stream",
     "text": [
      "Overall visit cost statistics: count    15387.000000\n",
      "mean       754.287347\n",
      "std        224.613824\n",
      "min        400.010000\n",
      "25%        552.665000\n",
      "50%        754.730000\n",
      "75%        911.940000\n",
      "max       1199.990000\n",
      "Name: visit_cost, dtype: float64 \n",
      "\n",
      "Basic insurance visit cost statistics:\n",
      " count    5298.000000\n",
      "mean     1001.371174\n",
      "std       115.655662\n",
      "min       800.510000\n",
      "25%       902.970000\n",
      "50%      1003.190000\n",
      "75%      1101.520000\n",
      "max      1199.990000\n",
      "Name: visit_cost, dtype: float64 \n",
      "\n",
      "Premium insurance visit cost statistics:\n",
      " count    5037.000000\n",
      "mean      749.417626\n",
      "std        87.029676\n",
      "min       600.030000\n",
      "25%       674.090000\n",
      "50%       746.840000\n",
      "75%       824.860000\n",
      "max       899.980000\n",
      "Name: visit_cost, dtype: float64 \n",
      "\n",
      "Platinum insurance visit cost statistics:\n",
      " count    5052.000000\n",
      "mean      500.027385\n",
      "std        58.151551\n",
      "min       400.010000\n",
      "25%       449.525000\n",
      "50%       500.210000\n",
      "75%       550.482500\n",
      "max       599.870000\n",
      "Name: visit_cost, dtype: float64 \n",
      "\n"
     ]
    },
    {
     "data": {
      "text/plain": [
       "Text(0.5, 1.0, 'BMI Distribution by Age Group')"
      ]
     },
     "execution_count": 18,
     "metadata": {},
     "output_type": "execute_result"
    },
    {
     "data": {
      "image/png": "[encoded data removed]",
      "text/plain": [
       "<Figure size 640x480 with 1 Axes>"
      ]
     },
     "metadata": {},
     "output_type": "display_data"
    }
   ],
   "source": [
    "import seaborn as sns\n",
    "# part 2 - analyze costs\n",
    "\n",
    "print('Overall visit cost statistics:\\n', df['visit_cost'].describe(), '\\n')\n",
    "print('Basic insurance visit cost statistics:\\n', df.loc[df['insurance']=='Basic', 'visit_cost'].describe(), '\\n')\n",
    "print('Premium insurance visit cost statistics:\\n', df.loc[df['insurance']=='Premium', 'visit_cost'].describe(), '\\n')\n",
    "print('Platinum insurance visit cost statistics:\\n', df.loc[df['insurance']=='Platinum', 'visit_cost'].describe(), '\\n')\n",
    "\n",
    "ax = sns.boxplot(data=df, x='insurance', y='visit_cost', color='lightblue')\n",
    "ax.set_title('BMI Distribution by Age Group')"
   ]
  }
 ],
 "metadata": {
  "kernelspec": {
   "display_name": ".venv",
   "language": "python",
   "name": "python3"
  },
  "language_info": {
   "codemirror_mode": {
    "name": "ipython",
    "version": 3
   },
   "file_extension": ".py",
   "mimetype": "text/x-python",
   "name": "python",
   "nbconvert_exporter": "python",
   "pygments_lexer": "ipython3",
   "version": "3.10.12"
  }
 },
 "nbformat": 4,
 "nbformat_minor": 2
}
